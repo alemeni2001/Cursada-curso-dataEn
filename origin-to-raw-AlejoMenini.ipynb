{
 "cells": [
  {
   "cell_type": "markdown",
   "metadata": {
    "application/vnd.databricks.v1+cell": {
     "cellMetadata": {
      "byteLimit": 2048000,
      "rowLimit": 10000
     },
     "inputWidgets": {},
     "nuid": "d2c4fb26-d79f-4359-8c8f-780bf7b5955c",
     "showTitle": false,
     "title": ""
    },
    "id": "qmU4mra2t5aS"
   },
   "source": [
    "## Analisis con PySpark.\n",
    "\n",
    "### 1) subir los csv en databricks con una notebook \"origin-to-raw\" en una carpeta que diga \"shop-carrito\" seguido de una carpeta 'raw-data', ejemplo {contenedor}/shop-carrito/raw-data/shop_carrito.csv \n",
    "\n",
    "### 2) En un nuevo notebook \"raw-to-trusted\", realizar los joins correspondientes de las 7 tablas, la forma de unirlos es la siguiente:\n",
    "\n",
    "• Shop-carrito -> shop-clientes por el campo “id_cliente”\n",
    "\n",
    "• Shop-carrito -> shop_campanias por el campo “id_campania”\n",
    "\n",
    "• Shop-carrito -> shop_articulos por el campo “id_articulo_ppal”\n",
    "\n",
    "• Shop-carrito -> shop_formapago por el campo “id_fpago”\n",
    "\n",
    "• Shop-carrito -> shop_carrito_estados por el campo “estado”\n",
    "\n",
    "• Shop-carrito -> shop_carrito_estados_pago por el campo “estado_pago”\n",
    "\n",
    "Al finalizar guardar el tablon en formato parquet en una carpeta que diga Trusted, ejemplo {contenedor}/trusted/tablon_shop_carrito/\n",
    "\n",
    "### 3) una vez que tengas el tablon shop_carrito, realizar los analisis correspondientes:\n",
    "\n",
    "a) Quiero saber qué cantidad de solicitudes de compra se encuentran en cada estado, y el porcentaje en relación al total.\n",
    "\n",
    "b) Quiero conocer los clientes principales de la empresa, generando un ranking por cantidad y otro por monto, teniendo en cuenta solamente las compras finalizadas (efectuadas).\n",
    "\n",
    "c) Queremos ver cuáles fueron los medios de pago más utilizados por los clientes\n",
    "\n",
    "d) Realizar un analisis donde me determine las campanias mas eficaces.\n",
    "\n",
    "e) realizar 2 analisis mas y que nos expliques los resultados obtenidos."
   ]
  },
  {
   "cell_type": "markdown",
   "metadata": {
    "application/vnd.databricks.v1+cell": {
     "cellMetadata": {
      "byteLimit": 2048000,
      "rowLimit": 10000
     },
     "inputWidgets": {},
     "nuid": "afdb25f8-c435-4d05-933c-bb82fa253e22",
     "showTitle": false,
     "title": ""
    }
   },
   "source": [
    "# origin-to-raw"
   ]
  },
  {
   "cell_type": "code",
   "execution_count": 0,
   "metadata": {
    "application/vnd.databricks.v1+cell": {
     "cellMetadata": {
      "byteLimit": 2048000,
      "rowLimit": 10000
     },
     "inputWidgets": {},
     "nuid": "a6cee049-fa44-4980-8c0d-97f486742eda",
     "showTitle": false,
     "title": ""
    }
   },
   "outputs": [],
   "source": [
    "datalake = 'dlformacion'\n",
    "contenedor_origen = 'shop-carrito'\n",
    "contenedor_destino = 'alejo-menini'\n",
    "tablas = ['articulos', 'campanias_gp', 'shop_carrito_estados_pago', 'shop_carrito_estados', 'Shop_carrito','Shop_clientes','shop_formapago']"
   ]
  },
  {
   "cell_type": "code",
   "execution_count": 0,
   "metadata": {
    "application/vnd.databricks.v1+cell": {
     "cellMetadata": {
      "byteLimit": 2048000,
      "rowLimit": 10000
     },
     "inputWidgets": {},
     "nuid": "f8f01484-8899-431e-b532-5a24489bfe78",
     "showTitle": false,
     "title": ""
    }
   },
   "outputs": [],
   "source": [
    "#access_key = dbutils.secrets.get(scope = \"dlformacion\", key = \"key1\")\n",
    "access_key = 'FIPeodgc8WLFK0TvcI+UHily5K2uvBp5AeryqRvqsc6fEapQj8vfEOhZs5R8xl9YX0MhvIaXK8L5+AStPinFvw=='\n",
    "spark.conf.set(f'fs.azure.account.key.{datalake}.dfs.core.windows.net', access_key)"
   ]
  },
  {
   "cell_type": "markdown",
   "metadata": {
    "application/vnd.databricks.v1+cell": {
     "cellMetadata": {
      "byteLimit": 2048000,
      "rowLimit": 10000
     },
     "inputWidgets": {},
     "nuid": "2af332b0-9aba-419c-92b7-902bfce40af1",
     "showTitle": false,
     "title": ""
    }
   },
   "source": [
    "Importamos los csv de nuestro datalake"
   ]
  },
  {
   "cell_type": "code",
   "execution_count": 0,
   "metadata": {
    "application/vnd.databricks.v1+cell": {
     "cellMetadata": {
      "byteLimit": 2048000,
      "rowLimit": 10000
     },
     "inputWidgets": {},
     "nuid": "7594bbd6-c197-43fe-b2ca-abbb1efefad4",
     "showTitle": false,
     "title": ""
    }
   },
   "outputs": [],
   "source": [
    "for tabla in tablas:\n",
    "    separador = ',' if (tabla in ['articulos', 'campanias_gp']) else ';'\n",
    "    exec(f'''df_{tabla} = spark.read.load(\n",
    "        f\"abfss://{contenedor_origen}@{datalake}.dfs.core.windows.net/{tabla}.csv\",\n",
    "        format = \"csv\",\n",
    "        sep = \"{separador}\",\n",
    "        header = \"true\")''')"
   ]
  },
  {
   "cell_type": "code",
   "execution_count": 0,
   "metadata": {
    "application/vnd.databricks.v1+cell": {
     "cellMetadata": {
      "byteLimit": 2048000,
      "rowLimit": 10000
     },
     "inputWidgets": {},
     "nuid": "1aaf375a-0d2d-4419-8067-7e6780c5135d",
     "showTitle": false,
     "title": ""
    }
   },
   "outputs": [
    {
     "output_type": "display_data",
     "data": {
      "text/html": [
       "<style scoped>\n",
       "  .table-result-container {\n",
       "    max-height: 300px;\n",
       "    overflow: auto;\n",
       "  }\n",
       "  table, th, td {\n",
       "    border: 1px solid black;\n",
       "    border-collapse: collapse;\n",
       "  }\n",
       "  th, td {\n",
       "    padding: 5px;\n",
       "  }\n",
       "  th {\n",
       "    text-align: left;\n",
       "  }\n",
       "</style><div class='table-result-container'><table class='table-result'><thead style='background-color: white'><tr><th>id</th><th>fecha</th><th>fecha_unix</th><th>id_cliente</th><th>direccion</th><th>numero</th><th>piso</th><th>dpto</th><th>entrecalles</th><th>cp</th><th>localidad</th><th>provincia</th><th>telefono</th><th>estado</th><th>estado_fecha</th><th>estado_pago</th><th>corte_generado_fecha</th><th>corte_generado</th><th>courier</th><th>id_fpago</th><th>comentarios</th><th>comentarios_internos</th><th>id_operador</th><th>tarjeta_numero</th><th>tarjeta_vencimiento</th><th>tarjeta_codigo</th><th>tarjeta_titular</th><th>tarjeta_pagos</th><th>tarjeta_aprobacion</th><th>fecha_dia</th><th>fecha_mes</th><th>fecha_ano</th><th>fecha_hora</th><th>campania</th><th>id_campania</th><th>monto</th><th>nro_guia</th><th>fecha_facturado</th><th>id_lote</th><th>id_estado_lote</th><th>ano</th><th>t_entrega</th><th>nota_credito</th><th>estado_logistico</th><th>id_oca</th><th>id_articulo_ppal</th><th>status_tango</th><th>fecha_anulado</th><th>fecha_pago_pf</th><th>fecha_aprobacion_bo</th><th>email</th><th>telefono_alternativo</th><th>id_pais_negocio</th><th>cotizacion</th><th>mail_fc_env</th><th>inbound</th><th>monto_DLS</th><th>fecha_entrega</th><th>franja_horaria</th><th>sms_enviado</th><th>fecha_entregado</th><th>asiento_refacturacion</th><th>id_courier</th><th>epack</th><th>id_subarea</th><th>costo_total</th><th>export_hermes</th><th>hermes</th><th>export_bi</th><th>mail_ap_bo</th><th>indice_hermes</th><th>monto_neto_usd</th><th>wp_notific</th><th>donacion</th><th>fecha_fin_tratamiento</th><th>pae_final</th><th>id_campania_recalc</th><th>costo_logistica</th><th>recompra_empresa</th></tr></thead><tbody><tr><td>7</td><td>7/3/2016 08:37</td><td>1457393857</td><td>27</td><td>Pasaje trufan</td><td>579</td><td>null</td><td>null</td><td>null</td><td>637</td><td>PUENTE ALTO</td><td>PUENTE ALTO</td><td>null</td><td>30</td><td>null</td><td>3</td><td>null</td><td>0</td><td>MotoPartner</td><td>2</td><td>null</td><td>null</td><td>1</td><td>1234</td><td>1212</td><td>123</td><td>Eliseo Del Carmen Guevara Mu&#65533;oz</td><td>6</td><td>123</td><td>8</td><td>3</td><td>2016</td><td>02:37</td><td>null</td><td>32</td><td>7728</td><td>122</td><td>1459957162</td><td>33</td><td>1</td><td>null</td><td>12-24 Hs</td><td>0</td><td>1</td><td>null</td><td>0</td><td>0</td><td>1461812400</td><td>0</td><td>1457394565</td><td>null</td><td>991231234</td><td>0</td><td>0.0</td><td>0</td><td>0</td><td>0.0</td><td>7/3/2016</td><td>16 a 20</td><td>0</td><td>0</td><td>0</td><td>2</td><td>null</td><td>0</td><td>0.0</td><td>0</td><td>0</td><td>1</td><td>0</td><td>0</td><td>0.0</td><td>0</td><td>0</td><td>0</td><td>0</td><td>0</td><td>11.4</td><td>0</td></tr><tr><td>62</td><td>6/3/2016 02:14</td><td>1457284452</td><td>25</td><td>Esmeralda</td><td>5756</td><td>null</td><td>null</td><td>Prueba Entre calles</td><td>643</td><td>SAN MIGUEL</td><td>SAN MIGUEL</td><td>null</td><td>5</td><td>null</td><td>2</td><td>null</td><td>0</td><td>MotoPartner</td><td>3</td><td>Comentarios corrier</td><td>comentarios internos</td><td>1</td><td>1235</td><td>null</td><td>null</td><td>null</td><td>6</td><td>1111</td><td>6</td><td>3</td><td>2016</td><td>20:14</td><td>null</td><td>22</td><td>81244</td><td>null</td><td>0</td><td>0</td><td>0</td><td>null</td><td>12-24 Hs</td><td>0</td><td>null</td><td>null</td><td>197</td><td>0</td><td>0</td><td>0</td><td>1457284555</td><td>null</td><td>966252103</td><td>3</td><td>683.89</td><td>0</td><td>0</td><td>118.8</td><td>6/3/2016</td><td>16 a 20</td><td>0</td><td>0</td><td>0</td><td>2</td><td>null</td><td>0</td><td>0.0</td><td>0</td><td>0</td><td>0</td><td>0</td><td>0</td><td>99.83</td><td>0</td><td>0</td><td>0</td><td>0</td><td>0</td><td>11.4</td><td>0</td></tr><tr><td>63</td><td>7/3/2016 12:09</td><td>1457363388</td><td>25</td><td>Esmeralda</td><td>5756</td><td>null</td><td>null</td><td>Prueba Entre calles</td><td>643</td><td>SAN MIGUEL</td><td>SAN MIGUEL</td><td>null</td><td>30</td><td>null</td><td>1</td><td>null</td><td>1</td><td>MotoPartner</td><td>1</td><td>null</td><td>null</td><td>6</td><td>null</td><td>null</td><td>null</td><td>null</td><td>null</td><td>null</td><td>7</td><td>3</td><td>2016</td><td>18:09</td><td>null</td><td>22</td><td>47980</td><td>1</td><td>1457408615</td><td>3</td><td>3</td><td>null</td><td>12-24 Hs</td><td>0</td><td>null</td><td>null</td><td>198</td><td>1</td><td>0</td><td>0</td><td>1457363440</td><td>null</td><td>966252103</td><td>3</td><td>683.89</td><td>0</td><td>0</td><td>70.16</td><td>7/3/2016</td><td>10 a 14</td><td>0</td><td>0</td><td>0</td><td>2</td><td>null</td><td>0</td><td>0.0</td><td>0</td><td>0</td><td>1</td><td>0</td><td>0</td><td>58.96</td><td>0</td><td>0</td><td>0</td><td>0</td><td>0</td><td>11.4</td><td>0</td></tr><tr><td>64</td><td>7/3/2016 05:18</td><td>1457381895</td><td>26</td><td>PSJE TRUPAN</td><td>579</td><td>null</td><td>null</td><td>COBQUECURA Y QUIRIHUE</td><td>637</td><td>PUENTE ALTO</td><td>PUENTE ALTO</td><td>null</td><td>30</td><td>null</td><td>3</td><td>null</td><td>1</td><td>MotoPartner</td><td>1</td><td>null</td><td>PARA DESPACHO 1ERO ABRIL POR INVENTARIO</td><td>15</td><td>null</td><td>null</td><td>null</td><td>null</td><td>null</td><td>null</td><td>7</td><td>3</td><td>2016</td><td>23:18</td><td>null</td><td>32</td><td>171970</td><td>83</td><td>1459860715</td><td>28</td><td>3</td><td>null</td><td>12-24 Hs</td><td>0</td><td>null</td><td>null</td><td>198</td><td>1</td><td>1461812400</td><td>0</td><td>1459821479</td><td>null</td><td>998437788</td><td>3</td><td>683.89</td><td>0</td><td>0</td><td>251.46</td><td>7/3/2016</td><td>10 a 14</td><td>0</td><td>0</td><td>0</td><td>2</td><td>null</td><td>5</td><td>0.0</td><td>0</td><td>0</td><td>1</td><td>0</td><td>0</td><td>211.31</td><td>0</td><td>0</td><td>0</td><td>0</td><td>0</td><td>11.4</td><td>0</td></tr><tr><td>65</td><td>7/3/2016 06:09</td><td>1457384975</td><td>27</td><td>PEDRO RIVEROS</td><td>1583</td><td>null</td><td>314</td><td>TORRE ARAUCARIA </td><td>638</td><td>QUILICURA</td><td>QUILICURA</td><td>null</td><td>30</td><td>null</td><td>3</td><td>null</td><td>0</td><td>Tarjeta MotoPartner</td><td>6</td><td>Sector Valle lo Campino </td><td>Venta Chat Green Pharma Pelofort</td><td>2</td><td>null</td><td>null</td><td>null</td><td>null</td><td>1</td><td>null</td><td>8</td><td>3</td><td>2016</td><td>00:09</td><td>null</td><td>48</td><td>88980</td><td>131</td><td>1459958029</td><td>32</td><td>3</td><td>null</td><td>12-24 Hs</td><td>0</td><td>null</td><td>null</td><td>198</td><td>0</td><td>0</td><td>0</td><td>1459821561</td><td>null</td><td>984184924</td><td>3</td><td>683.89</td><td>0</td><td>0</td><td>130.11</td><td>7/3/2016</td><td>10 a 14</td><td>0</td><td>0</td><td>0</td><td>5</td><td>null</td><td>5</td><td>0.0</td><td>0</td><td>0</td><td>1</td><td>0</td><td>0</td><td>109.34</td><td>0</td><td>0</td><td>0</td><td>0</td><td>0</td><td>11.4</td><td>0</td></tr></tbody></table></div>"
      ]
     },
     "metadata": {
      "application/vnd.databricks.v1+output": {
       "addedWidgets": {},
       "aggData": [],
       "aggError": "",
       "aggOverflow": false,
       "aggSchema": [],
       "aggSeriesLimitReached": false,
       "aggType": "",
       "arguments": {},
       "columnCustomDisplayInfos": {},
       "data": [
        [
         "7",
         "7/3/2016 08:37",
         "1457393857",
         "27",
         "Pasaje trufan",
         "579",
         null,
         null,
         null,
         "637",
         "PUENTE ALTO",
         "PUENTE ALTO",
         null,
         "30",
         null,
         "3",
         null,
         "0",
         "MotoPartner",
         "2",
         null,
         null,
         "1",
         "1234",
         "1212",
         "123",
         "Eliseo Del Carmen Guevara Mu&#65533;oz",
         "6",
         "123",
         "8",
         "3",
         "2016",
         "02:37",
         null,
         "32",
         "7728",
         "122",
         "1459957162",
         "33",
         "1",
         null,
         "12-24 Hs",
         "0",
         "1",
         null,
         "0",
         "0",
         "1461812400",
         "0",
         "1457394565",
         null,
         "991231234",
         "0",
         "0.0",
         "0",
         "0",
         "0.0",
         "7/3/2016",
         "16 a 20",
         "0",
         "0",
         "0",
         "2",
         null,
         "0",
         "0.0",
         "0",
         "0",
         "1",
         "0",
         "0",
         "0.0",
         "0",
         "0",
         "0",
         "0",
         "0",
         "11.4",
         "0"
        ],
        [
         "62",
         "6/3/2016 02:14",
         "1457284452",
         "25",
         "Esmeralda",
         "5756",
         null,
         null,
         "Prueba Entre calles",
         "643",
         "SAN MIGUEL",
         "SAN MIGUEL",
         null,
         "5",
         null,
         "2",
         null,
         "0",
         "MotoPartner",
         "3",
         "Comentarios corrier",
         "comentarios internos",
         "1",
         "1235",
         null,
         null,
         null,
         "6",
         "1111",
         "6",
         "3",
         "2016",
         "20:14",
         null,
         "22",
         "81244",
         null,
         "0",
         "0",
         "0",
         null,
         "12-24 Hs",
         "0",
         null,
         null,
         "197",
         "0",
         "0",
         "0",
         "1457284555",
         null,
         "966252103",
         "3",
         "683.89",
         "0",
         "0",
         "118.8",
         "6/3/2016",
         "16 a 20",
         "0",
         "0",
         "0",
         "2",
         null,
         "0",
         "0.0",
         "0",
         "0",
         "0",
         "0",
         "0",
         "99.83",
         "0",
         "0",
         "0",
         "0",
         "0",
         "11.4",
         "0"
        ],
        [
         "63",
         "7/3/2016 12:09",
         "1457363388",
         "25",
         "Esmeralda",
         "5756",
         null,
         null,
         "Prueba Entre calles",
         "643",
         "SAN MIGUEL",
         "SAN MIGUEL",
         null,
         "30",
         null,
         "1",
         null,
         "1",
         "MotoPartner",
         "1",
         null,
         null,
         "6",
         null,
         null,
         null,
         null,
         null,
         null,
         "7",
         "3",
         "2016",
         "18:09",
         null,
         "22",
         "47980",
         "1",
         "1457408615",
         "3",
         "3",
         null,
         "12-24 Hs",
         "0",
         null,
         null,
         "198",
         "1",
         "0",
         "0",
         "1457363440",
         null,
         "966252103",
         "3",
         "683.89",
         "0",
         "0",
         "70.16",
         "7/3/2016",
         "10 a 14",
         "0",
         "0",
         "0",
         "2",
         null,
         "0",
         "0.0",
         "0",
         "0",
         "1",
         "0",
         "0",
         "58.96",
         "0",
         "0",
         "0",
         "0",
         "0",
         "11.4",
         "0"
        ],
        [
         "64",
         "7/3/2016 05:18",
         "1457381895",
         "26",
         "PSJE TRUPAN",
         "579",
         null,
         null,
         "COBQUECURA Y QUIRIHUE",
         "637",
         "PUENTE ALTO",
         "PUENTE ALTO",
         null,
         "30",
         null,
         "3",
         null,
         "1",
         "MotoPartner",
         "1",
         null,
         "PARA DESPACHO 1ERO ABRIL POR INVENTARIO",
         "15",
         null,
         null,
         null,
         null,
         null,
         null,
         "7",
         "3",
         "2016",
         "23:18",
         null,
         "32",
         "171970",
         "83",
         "1459860715",
         "28",
         "3",
         null,
         "12-24 Hs",
         "0",
         null,
         null,
         "198",
         "1",
         "1461812400",
         "0",
         "1459821479",
         null,
         "998437788",
         "3",
         "683.89",
         "0",
         "0",
         "251.46",
         "7/3/2016",
         "10 a 14",
         "0",
         "0",
         "0",
         "2",
         null,
         "5",
         "0.0",
         "0",
         "0",
         "1",
         "0",
         "0",
         "211.31",
         "0",
         "0",
         "0",
         "0",
         "0",
         "11.4",
         "0"
        ],
        [
         "65",
         "7/3/2016 06:09",
         "1457384975",
         "27",
         "PEDRO RIVEROS",
         "1583",
         null,
         "314",
         "TORRE ARAUCARIA ",
         "638",
         "QUILICURA",
         "QUILICURA",
         null,
         "30",
         null,
         "3",
         null,
         "0",
         "Tarjeta MotoPartner",
         "6",
         "Sector Valle lo Campino ",
         "Venta Chat Green Pharma Pelofort",
         "2",
         null,
         null,
         null,
         null,
         "1",
         null,
         "8",
         "3",
         "2016",
         "00:09",
         null,
         "48",
         "88980",
         "131",
         "1459958029",
         "32",
         "3",
         null,
         "12-24 Hs",
         "0",
         null,
         null,
         "198",
         "0",
         "0",
         "0",
         "1459821561",
         null,
         "984184924",
         "3",
         "683.89",
         "0",
         "0",
         "130.11",
         "7/3/2016",
         "10 a 14",
         "0",
         "0",
         "0",
         "5",
         null,
         "5",
         "0.0",
         "0",
         "0",
         "1",
         "0",
         "0",
         "109.34",
         "0",
         "0",
         "0",
         "0",
         "0",
         "11.4",
         "0"
        ]
       ],
       "datasetInfos": [],
       "dbfsResultPath": null,
       "isJsonSchema": true,
       "metadata": {},
       "overflow": false,
       "plotOptions": {
        "customPlotOptions": {},
        "displayType": "table",
        "pivotAggregation": null,
        "pivotColumns": null,
        "xColumns": null,
        "yColumns": null
       },
       "removedWidgets": [],
       "schema": [
        {
         "metadata": "{}",
         "name": "id",
         "type": "\"string\""
        },
        {
         "metadata": "{}",
         "name": "fecha",
         "type": "\"string\""
        },
        {
         "metadata": "{}",
         "name": "fecha_unix",
         "type": "\"string\""
        },
        {
         "metadata": "{}",
         "name": "id_cliente",
         "type": "\"string\""
        },
        {
         "metadata": "{}",
         "name": "direccion",
         "type": "\"string\""
        },
        {
         "metadata": "{}",
         "name": "numero",
         "type": "\"string\""
        },
        {
         "metadata": "{}",
         "name": "piso",
         "type": "\"string\""
        },
        {
         "metadata": "{}",
         "name": "dpto",
         "type": "\"string\""
        },
        {
         "metadata": "{}",
         "name": "entrecalles",
         "type": "\"string\""
        },
        {
         "metadata": "{}",
         "name": "cp",
         "type": "\"string\""
        },
        {
         "metadata": "{}",
         "name": "localidad",
         "type": "\"string\""
        },
        {
         "metadata": "{}",
         "name": "provincia",
         "type": "\"string\""
        },
        {
         "metadata": "{}",
         "name": "telefono",
         "type": "\"string\""
        },
        {
         "metadata": "{}",
         "name": "estado",
         "type": "\"string\""
        },
        {
         "metadata": "{}",
         "name": "estado_fecha",
         "type": "\"string\""
        },
        {
         "metadata": "{}",
         "name": "estado_pago",
         "type": "\"string\""
        },
        {
         "metadata": "{}",
         "name": "corte_generado_fecha",
         "type": "\"string\""
        },
        {
         "metadata": "{}",
         "name": "corte_generado",
         "type": "\"string\""
        },
        {
         "metadata": "{}",
         "name": "courier",
         "type": "\"string\""
        },
        {
         "metadata": "{}",
         "name": "id_fpago",
         "type": "\"string\""
        },
        {
         "metadata": "{}",
         "name": "comentarios",
         "type": "\"string\""
        },
        {
         "metadata": "{}",
         "name": "comentarios_internos",
         "type": "\"string\""
        },
        {
         "metadata": "{}",
         "name": "id_operador",
         "type": "\"string\""
        },
        {
         "metadata": "{}",
         "name": "tarjeta_numero",
         "type": "\"string\""
        },
        {
         "metadata": "{}",
         "name": "tarjeta_vencimiento",
         "type": "\"string\""
        },
        {
         "metadata": "{}",
         "name": "tarjeta_codigo",
         "type": "\"string\""
        },
        {
         "metadata": "{}",
         "name": "tarjeta_titular",
         "type": "\"string\""
        },
        {
         "metadata": "{}",
         "name": "tarjeta_pagos",
         "type": "\"string\""
        },
        {
         "metadata": "{}",
         "name": "tarjeta_aprobacion",
         "type": "\"string\""
        },
        {
         "metadata": "{}",
         "name": "fecha_dia",
         "type": "\"string\""
        },
        {
         "metadata": "{}",
         "name": "fecha_mes",
         "type": "\"string\""
        },
        {
         "metadata": "{}",
         "name": "fecha_ano",
         "type": "\"string\""
        },
        {
         "metadata": "{}",
         "name": "fecha_hora",
         "type": "\"string\""
        },
        {
         "metadata": "{}",
         "name": "campania",
         "type": "\"string\""
        },
        {
         "metadata": "{}",
         "name": "id_campania",
         "type": "\"string\""
        },
        {
         "metadata": "{}",
         "name": "monto",
         "type": "\"string\""
        },
        {
         "metadata": "{}",
         "name": "nro_guia",
         "type": "\"string\""
        },
        {
         "metadata": "{}",
         "name": "fecha_facturado",
         "type": "\"string\""
        },
        {
         "metadata": "{}",
         "name": "id_lote",
         "type": "\"string\""
        },
        {
         "metadata": "{}",
         "name": "id_estado_lote",
         "type": "\"string\""
        },
        {
         "metadata": "{}",
         "name": "ano",
         "type": "\"string\""
        },
        {
         "metadata": "{}",
         "name": "t_entrega",
         "type": "\"string\""
        },
        {
         "metadata": "{}",
         "name": "nota_credito",
         "type": "\"string\""
        },
        {
         "metadata": "{}",
         "name": "estado_logistico",
         "type": "\"string\""
        },
        {
         "metadata": "{}",
         "name": "id_oca",
         "type": "\"string\""
        },
        {
         "metadata": "{}",
         "name": "id_articulo_ppal",
         "type": "\"string\""
        },
        {
         "metadata": "{}",
         "name": "status_tango",
         "type": "\"string\""
        },
        {
         "metadata": "{}",
         "name": "fecha_anulado",
         "type": "\"string\""
        },
        {
         "metadata": "{}",
         "name": "fecha_pago_pf",
         "type": "\"string\""
        },
        {
         "metadata": "{}",
         "name": "fecha_aprobacion_bo",
         "type": "\"string\""
        },
        {
         "metadata": "{}",
         "name": "email",
         "type": "\"string\""
        },
        {
         "metadata": "{}",
         "name": "telefono_alternativo",
         "type": "\"string\""
        },
        {
         "metadata": "{}",
         "name": "id_pais_negocio",
         "type": "\"string\""
        },
        {
         "metadata": "{}",
         "name": "cotizacion",
         "type": "\"string\""
        },
        {
         "metadata": "{}",
         "name": "mail_fc_env",
         "type": "\"string\""
        },
        {
         "metadata": "{}",
         "name": "inbound",
         "type": "\"string\""
        },
        {
         "metadata": "{}",
         "name": "monto_DLS",
         "type": "\"string\""
        },
        {
         "metadata": "{}",
         "name": "fecha_entrega",
         "type": "\"string\""
        },
        {
         "metadata": "{}",
         "name": "franja_horaria",
         "type": "\"string\""
        },
        {
         "metadata": "{}",
         "name": "sms_enviado",
         "type": "\"string\""
        },
        {
         "metadata": "{}",
         "name": "fecha_entregado",
         "type": "\"string\""
        },
        {
         "metadata": "{}",
         "name": "asiento_refacturacion",
         "type": "\"string\""
        },
        {
         "metadata": "{}",
         "name": "id_courier",
         "type": "\"string\""
        },
        {
         "metadata": "{}",
         "name": "epack",
         "type": "\"string\""
        },
        {
         "metadata": "{}",
         "name": "id_subarea",
         "type": "\"string\""
        },
        {
         "metadata": "{}",
         "name": "costo_total",
         "type": "\"string\""
        },
        {
         "metadata": "{}",
         "name": "export_hermes",
         "type": "\"string\""
        },
        {
         "metadata": "{}",
         "name": "hermes",
         "type": "\"string\""
        },
        {
         "metadata": "{}",
         "name": "export_bi",
         "type": "\"string\""
        },
        {
         "metadata": "{}",
         "name": "mail_ap_bo",
         "type": "\"string\""
        },
        {
         "metadata": "{}",
         "name": "indice_hermes",
         "type": "\"string\""
        },
        {
         "metadata": "{}",
         "name": "monto_neto_usd",
         "type": "\"string\""
        },
        {
         "metadata": "{}",
         "name": "wp_notific",
         "type": "\"string\""
        },
        {
         "metadata": "{}",
         "name": "donacion",
         "type": "\"string\""
        },
        {
         "metadata": "{}",
         "name": "fecha_fin_tratamiento",
         "type": "\"string\""
        },
        {
         "metadata": "{}",
         "name": "pae_final",
         "type": "\"string\""
        },
        {
         "metadata": "{}",
         "name": "id_campania_recalc",
         "type": "\"string\""
        },
        {
         "metadata": "{}",
         "name": "costo_logistica",
         "type": "\"string\""
        },
        {
         "metadata": "{}",
         "name": "recompra_empresa",
         "type": "\"string\""
        }
       ],
       "type": "table"
      }
     },
     "output_type": "display_data"
    }
   ],
   "source": [
    "df_Shop_carrito.limit(5).display()"
   ]
  },
  {
   "cell_type": "markdown",
   "metadata": {
    "application/vnd.databricks.v1+cell": {
     "cellMetadata": {
      "byteLimit": 2048000,
      "rowLimit": 10000
     },
     "inputWidgets": {},
     "nuid": "ce8f6802-269b-4a5d-bab7-5728c33886d7",
     "showTitle": false,
     "title": ""
    }
   },
   "source": [
    "Y los guardamos en nuestro contenedor, en formato csv en shopr-carrito/raw_data"
   ]
  },
  {
   "cell_type": "code",
   "execution_count": 0,
   "metadata": {
    "application/vnd.databricks.v1+cell": {
     "cellMetadata": {
      "byteLimit": 2048000,
      "rowLimit": 10000
     },
     "inputWidgets": {},
     "nuid": "9cc48072-7445-49d6-9561-91057b4d612e",
     "showTitle": false,
     "title": ""
    }
   },
   "outputs": [],
   "source": [
    "for tabla in tablas:\n",
    "    exec(f\"\"\"df_{tabla}.write.csv(\n",
    "        path=f'abfss://{contenedor_destino}@{datalake}.dfs.core.windows.net/shop-carrito/raw_data/{tabla}.csv',\n",
    "        header=True,\n",
    "        mode = 'overwrite')\"\"\")"
   ]
  },
  {
   "cell_type": "code",
   "execution_count": 0,
   "metadata": {
    "application/vnd.databricks.v1+cell": {
     "cellMetadata": {
      "byteLimit": 2048000,
      "rowLimit": 10000
     },
     "inputWidgets": {},
     "nuid": "03d7d473-35c9-48ac-a453-f0abfdc041d2",
     "showTitle": false,
     "title": ""
    }
   },
   "outputs": [],
   "source": []
  }
 ],
 "metadata": {
  "application/vnd.databricks.v1+notebook": {
   "dashboards": [],
   "language": "python",
   "notebookMetadata": {
    "pythonIndentUnit": 4
   },
   "notebookName": "origin-to-raw-AlejoMenini",
   "widgets": {}
  },
  "colab": {
   "collapsed_sections": [
    "wXCOJhoet5aI",
    "YHSelP9Ft5aJ",
    "ElDcQKLMt5aJ",
    "DnGYtWuDt5aK",
    "D-cGbYuRt5aK",
    "_GHOjG4Lt5aL",
    "Y9r3e_xjt5aL",
    "oXhJqkSot5aN",
    "bUt3PkYHt5aN",
    "vSzp26BIt5aN",
    "BuX2Byakt5aO",
    "bUg__ftYt5aO",
    "Ap9kNQfKt5aP",
    "EDbemy0-t5aP",
    "BnG9uqkBt5aP",
    "Yh-oKsf9t5aP",
    "muE5HraIt5aR",
    "qmU4mra2t5aS"
   ],
   "provenance": []
  },
  "kernelspec": {
   "display_name": "Python 3 (ipykernel)",
   "language": "python",
   "name": "python3"
  },
  "language_info": {
   "codemirror_mode": {
    "name": "ipython",
    "version": 3
   },
   "file_extension": ".py",
   "mimetype": "text/x-python",
   "name": "python",
   "nbconvert_exporter": "python",
   "pygments_lexer": "ipython3",
   "version": "3.9.7"
  }
 },
 "nbformat": 4,
 "nbformat_minor": 0
}
